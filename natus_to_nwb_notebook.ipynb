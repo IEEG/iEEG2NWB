{
 "cells": [
  {
   "cell_type": "markdown",
   "id": "d29f0750-ee54-4103-b857-4509562b0c0d",
   "metadata": {},
   "source": [
    "Convert Natus data to NWB\n",
    "\n",
    "July 15 2024\n",
    "\n",
    "Noah Markowitz"
   ]
  },
  {
   "cell_type": "code",
   "execution_count": 1,
   "id": "4806a920-6ea0-4e28-91dc-5aaa7ba60600",
   "metadata": {},
   "outputs": [],
   "source": [
    "from nwreader import read_erd, read_annotations_file\n",
    "\n",
    "import glob\n",
    "import os.path as op\n",
    "import os\n",
    "import numpy as np\n",
    "import pandas as pd\n",
    "import re\n",
    "\n",
    "from datetime import datetime\n",
    "from uuid import uuid4\n",
    "from dateutil.tz import tzlocal\n",
    "\n",
    "from uuid import uuid4\n",
    "from hdmf.common.table import DynamicTable\n",
    "from hdmf.backends.hdf5.h5_utils import H5DataIO\n",
    "from pynwb import NWBHDF5IO, NWBFile, TimeSeries\n",
    "from pynwb.file import Subject, ElectrodeTable\n",
    "from pynwb.device import Device\n",
    "from pynwb.ecephys import ElectrodeGroup, ElectricalSeries\n",
    "import dask.array as da\n",
    "import h5py"
   ]
  },
  {
   "cell_type": "code",
   "execution_count": 2,
   "id": "b1bfd9ee-bdf5-4086-ba33-1607f9a36225",
   "metadata": {},
   "outputs": [],
   "source": [
    "from scripts.nwb import (create_subject, clean_labelfile, create_electrode_groups, \n",
    "labelfile2table, create_table_regions, create_electrical_series)\n",
    "from scripts.utils import load_nwb_settings"
   ]
  },
  {
   "cell_type": "markdown",
   "id": "a6f82ffb-eed1-490f-ad38-bb524d980d76",
   "metadata": {},
   "source": [
    "# Setup\n",
    "\n",
    "Specify info on subject and study"
   ]
  },
  {
   "cell_type": "code",
   "execution_count": 3,
   "id": "9431b59e-eeb1-4c20-b39e-ff0532ff46db",
   "metadata": {},
   "outputs": [],
   "source": [
    "# Path to study directory\n",
    "# NOTE: You should not read in the original study saved on the server.\n",
    "#       In reading files there's a chance for corruption. Make a copy of it\n",
    "# Path to w drive is: /run/user/1000/gvfs/smb-share:server=sykisilon1,share=mehtalab/\n",
    "study_directory = \"/media/hbml/HDD2/natus_api/data/natus/amayareyes-jacinto_IC-Day-5A\"\n",
    "\n",
    "# Freesurfer info\n",
    "freesurfer_subject_directory = \"/home/hbml/freesurfer_7.1.1/subjects\"\n",
    "freesurfer_subject_id = \"NS144_02\"\n",
    "\n",
    "# NWB filename. Suggested to follow the BIDS template such as: sub-NS001_ses-implant01_desc-day1_ieeg.nwb\n",
    "nwb_filename = \"/media/hbml/HDD2/natus_api/data/nwb/sub-NS144_ses-implant02_desc-ImplantDay5_ieeg.nwb\"\n",
    "\n",
    "# Text fields for NWB file. Leave blank for default to be filled\n",
    "\n",
    "# Typically the freesurfer and subject ID are the same but not always such as if they had multiple implants\n",
    "\n",
    "subject_info = {\n",
    "    \"subject_id\": \"NS144\",\n",
    "    \"age\": 30, # An integer or ISO 8601 format (ex: 30 years old = \"P30Y\"). ISO may be good if children to also have months\n",
    "    \"sex\": \"U\", # Options: [M,F,U]\n",
    "    \"species\": \"Homo sapiens\",\n",
    "    \"description\": \"intracranial patient\" # can put another description if you'd like\n",
    "}\n",
    "\n",
    "notes = \"\"\"\n",
    "\n",
    "\"\"\"\n",
    "\n",
    "session_description = \"\"\"\n",
    "\n",
    "\"\"\"\n",
    "\n",
    "session_id = \"\"\n",
    "\n",
    "\n",
    "experiment_description = \"\"\"\n",
    "\n",
    "\"\"\"\n",
    "\n",
    "experimenter = \"\"\"\n",
    "\n",
    "\"\"\"\n",
    "\n",
    "institution = \"\"\"\n",
    "\n",
    "\"\"\"\n",
    "\n",
    "lab = \"\"\"\n",
    "\n",
    "\"\"\"\n",
    "\n",
    "data_collection = \"\"\"\n",
    "\n",
    "\"\"\"\n",
    "\n",
    "# Options: DC1-DC14, TRIG, OSAT, PR, PLETH\n",
    "other_chans = []\n",
    "\n",
    "\n",
    "# Fill this dictionary. It will be used for conversion\n",
    "nwb_info = {\n",
    "    \"notes\": notes,\n",
    "    \"session_description\": session_description,\n",
    "    \"experiment_description\": experiment_description,\n",
    "    #\"experimenter\": experimenter,\n",
    "    \"institution\": institution,\n",
    "    \"lab\": lab,\n",
    "    \"data_collection\": data_collection,\n",
    "    \"session_id\": session_id,\n",
    "    #\"nwb_filename\": nwb_filename\n",
    "}"
   ]
  },
  {
   "cell_type": "markdown",
   "id": "3ca8b5e8-d630-43c8-96e4-733c87ae2596",
   "metadata": {},
   "source": [
    "# Read the natus study data\n",
    "\n",
    "save it to a tmp file to later use"
   ]
  },
  {
   "cell_type": "code",
   "execution_count": 4,
   "id": "24580809-583d-4beb-b465-749ec4565c58",
   "metadata": {},
   "outputs": [],
   "source": [
    "erd = read_erd(study_directory, use_dask=True, convert=True, pad_discont=True)\n",
    "\n",
    "# Sampling rate\n",
    "fs = erd.attrs[\"sample_freq\"]\n",
    "\n",
    "# Keep month, date and time but set the year to 1900\n",
    "study_start_time = erd.attrs[\"creation_time\"].replace(year=1900)"
   ]
  },
  {
   "cell_type": "markdown",
   "id": "7aec7f17-c2e7-492a-a569-b6b902bb2791",
   "metadata": {},
   "source": [
    "Get the study start time and then change the year"
   ]
  },
  {
   "cell_type": "code",
   "execution_count": 5,
   "id": "400dc666-32c7-404a-830e-1ad6fbab8c4e",
   "metadata": {},
   "outputs": [],
   "source": [
    "# Time study started. Set Year,Month,Day to 1900,01,01 to annonymize only the day\n",
    "nwb_info[\"session_start_time\"] = study_start_time"
   ]
  },
  {
   "cell_type": "markdown",
   "id": "5ae530c6-18b9-432f-8b58-5e509842b36f",
   "metadata": {},
   "source": [
    "# Read in settings"
   ]
  },
  {
   "cell_type": "code",
   "execution_count": 6,
   "id": "0550c399-5c58-42ab-adfb-73ddab8755b6",
   "metadata": {},
   "outputs": [],
   "source": [
    "settings = load_nwb_settings()"
   ]
  },
  {
   "cell_type": "markdown",
   "id": "a9cd05d5-6167-4a24-b30e-abb9695c4649",
   "metadata": {},
   "source": [
    "# Meta-data, Subject, Device"
   ]
  },
  {
   "cell_type": "markdown",
   "id": "349a2627-dea7-4e45-b87b-536209004f83",
   "metadata": {},
   "source": [
    "Fill in meta-data if some are empty"
   ]
  },
  {
   "cell_type": "code",
   "execution_count": 7,
   "id": "d0b91004-d622-49d0-a44f-94aec901130a",
   "metadata": {},
   "outputs": [],
   "source": [
    "meta_data_settings = settings[\"meta_data\"]\n",
    "for param, value in nwb_info.items():\n",
    "    if isinstance(value, datetime):\n",
    "        continue\n",
    "    if len(value.strip())==0:\n",
    "        nwb_info[param] = meta_data_settings[param]"
   ]
  },
  {
   "cell_type": "markdown",
   "id": "6f9329db-77d1-47e9-a4ab-52cc85f48636",
   "metadata": {},
   "source": [
    "Create subject object"
   ]
  },
  {
   "cell_type": "code",
   "execution_count": 8,
   "id": "2fe975f5-159e-47b8-82d1-a9856d4cf8d9",
   "metadata": {},
   "outputs": [],
   "source": [
    "subject_settings = settings[\"subject\"]\n",
    "for param, value in subject_settings.items():\n",
    "    if isinstance(subject_info[param], int):\n",
    "        continue\n",
    "    if len(subject_info[param])==0:\n",
    "        subject_info[param] = subject_settings[param]\n",
    "\n",
    "subject = create_subject(**subject_info)"
   ]
  },
  {
   "cell_type": "markdown",
   "id": "0cbe5157-befc-4924-bb32-59a1a5208d5c",
   "metadata": {},
   "source": [
    "Create device"
   ]
  },
  {
   "cell_type": "code",
   "execution_count": 9,
   "id": "94919683-a27d-4ba1-87f9-9d0cb1e7b26d",
   "metadata": {},
   "outputs": [],
   "source": [
    "amplifier = Device(name=\"Natus\", manufacturer=\"Natus Medical Inc.\", description=\"Quantum Headbox\")"
   ]
  },
  {
   "cell_type": "markdown",
   "id": "a4735e50-7fa1-4aa4-9dde-31a51e5229fd",
   "metadata": {},
   "source": [
    "# Read correspondence sheet and make table"
   ]
  },
  {
   "cell_type": "code",
   "execution_count": 10,
   "id": "4272fb90-748f-4a33-aa62-ec7b22f4954f",
   "metadata": {},
   "outputs": [],
   "source": [
    "# Import correspondence sheet\n",
    "corr_list = glob.glob(op.join(freesurfer_subject_directory, freesurfer_subject_id, \"elec_recon\", \"*correspondence*\"))\n",
    "corr_file = corr_list[0]\n",
    "if corr_file.endswith('.csv'):\n",
    "    corr_df = pd.read_csv(corr_file)\n",
    "elif corr_file.endswith('.xlsx'):\n",
    "    corr_df = pd.read_excel(corr_file, sheet_name=0)\n",
    "else:\n",
    "    raise ValueError(\"Correspondence file must be a .csv or .xlsx file\")\n",
    "\n",
    "# Clean correspondence sheet and get more info from it\n",
    "df, dynamic_columns, neural_data_indices = clean_labelfile(corr_df)\n",
    "\n",
    "# Group electrodes by name\n",
    "df, elecgroups = create_electrode_groups(df, amplifier)\n",
    "\n",
    "# Create DynamicTable for file\n",
    "electable = labelfile2table(df, dynamic_columns)"
   ]
  },
  {
   "cell_type": "markdown",
   "id": "3901e4c3-7478-4277-9287-17b489adaa55",
   "metadata": {},
   "source": [
    "# Divide the table into regions to create an ElectricalSeries for each region"
   ]
  },
  {
   "cell_type": "code",
   "execution_count": 11,
   "id": "3c391f47-ed71-4750-988e-150fb7bc6d44",
   "metadata": {},
   "outputs": [],
   "source": [
    "# Create the regions\n",
    "table_regions = create_table_regions(df, electable)\n",
    "\n",
    "# Create the ElectricalSeries objects\n",
    "#acquisitions = create_electrical_series(stored_data, table_regions, fs)"
   ]
  },
  {
   "cell_type": "markdown",
   "id": "cf07e7f4-c641-4384-91a8-4290f45e038e",
   "metadata": {},
   "source": [
    "Save the subselection of data"
   ]
  },
  {
   "cell_type": "code",
   "execution_count": 29,
   "id": "8d2377a2-1d52-434c-91f9-5510e2bc10c3",
   "metadata": {},
   "outputs": [
    {
     "name": "stdout",
     "output_type": "stream",
     "text": [
      "----->Saving ieeg data to temporary hdf5 file. This could take a second\n",
      "----->Saving epicranial data to temporary hdf5 file. This could take a second\n"
     ]
    }
   ],
   "source": [
    "tmp_h5_handles = {\"filename\": [], \"file_handle\": [], \"data_handle\":[]}\n",
    "acquisitions = []\n",
    "for spec, region in table_regions.items():\n",
    "    indices = region.data\n",
    "    data_indices = neural_data_indices[indices].tolist()\n",
    "    data = erd.data[data_indices,:].T\n",
    "    tmp_filename = op.join(op.dirname(nwb_filename), spec + \".hdf5\")\n",
    "    print(f\"----->Saving {spec} data to temporary hdf5 file. This could take a second\")\n",
    "    da.to_hdf5(tmp_filename, \"/data\", data, chunks=True, compression=\"gzip\")\n",
    "\n",
    "    # open the temp file\n",
    "    f = h5py.File(tmp_filename, \"r\")\n",
    "    stored_data = f[\"/data\"] # HDMF5 dataset object\n",
    "    tmp_h5_handles[spec] = f\n",
    "\n",
    "    # Create container for the data\n",
    "    es = ElectricalSeries(\n",
    "        name=spec,\n",
    "        data=H5DataIO(data=stored_data, link_data=False),\n",
    "        electrodes=region,\n",
    "        rate=float(fs),\n",
    "        description=spec + \" data\",\n",
    "        starting_time=0.0,\n",
    "        conversion=1e-6,\n",
    "        #unit=\"microVolt\",\n",
    "    )\n",
    "    acquisitions.append(es)\n",
    "\n",
    "    tmp_h5_handles[\"filename\"].append(tmp_filename)\n",
    "    tmp_h5_handles[\"file_handle\"].append(f)\n",
    "    tmp_h5_handles[\"data_handle\"].append(stored_data)"
   ]
  },
  {
   "cell_type": "markdown",
   "id": "52cd2c74-636e-4de7-b526-2467c7acd060",
   "metadata": {},
   "source": [
    "# Add other TimeSeries if specified"
   ]
  },
  {
   "cell_type": "markdown",
   "id": "a754f1ec-f201-4ad2-a40f-0336362f52ef",
   "metadata": {},
   "source": [
    "# Create NwbFile object then write"
   ]
  },
  {
   "cell_type": "code",
   "execution_count": 30,
   "id": "9c50ec8e-71b9-49e8-ad1e-cbf9686a7879",
   "metadata": {},
   "outputs": [],
   "source": [
    "# Create the object\n",
    "nwbfile = NWBFile(\n",
    "    **nwb_info,\n",
    "    subject=subject,\n",
    "    devices=[amplifier],\n",
    "    acquisition=acquisitions,\n",
    "    electrodes=electable,\n",
    "    electrode_groups=elecgroups,\n",
    "    identifier=str(uuid4()),\n",
    ")\n",
    "\n",
    "# Write it\n",
    "with NWBHDF5IO(nwb_filename, \"w\") as io:\n",
    "    io.write(nwbfile,link_data=False)"
   ]
  },
  {
   "cell_type": "code",
   "execution_count": 33,
   "id": "c6ab35e4-d14e-4fce-b897-0101328a8b7c",
   "metadata": {},
   "outputs": [],
   "source": [
    "# Close all temp file\n",
    "n_files = len(tmp_h5_handles[\"filename\"])\n",
    "for ii in range(n_files):\n",
    "    tmp_h5_handles[\"file_handle\"][ii].close()\n",
    "    os.remove(tmp_h5_handles[\"filename\"][ii])"
   ]
  },
  {
   "cell_type": "code",
   "execution_count": null,
   "id": "7b7a1978-b402-4e8d-83e2-012e7bc1a723",
   "metadata": {},
   "outputs": [],
   "source": []
  }
 ],
 "metadata": {
  "kernelspec": {
   "display_name": "Python 3 (ipykernel)",
   "language": "python",
   "name": "python3"
  },
  "language_info": {
   "codemirror_mode": {
    "name": "ipython",
    "version": 3
   },
   "file_extension": ".py",
   "mimetype": "text/x-python",
   "name": "python",
   "nbconvert_exporter": "python",
   "pygments_lexer": "ipython3",
   "version": "3.12.4"
  }
 },
 "nbformat": 4,
 "nbformat_minor": 5
}
