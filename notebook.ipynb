{
 "cells": [
  {
   "cell_type": "markdown",
   "id": "d29f0750-ee54-4103-b857-4509562b0c0d",
   "metadata": {},
   "source": [
    "Convert TDT and EDF data to NWB\n",
    "\n",
    "July 15 2024\n",
    "\n",
    "Noah Markowitz"
   ]
  },
  {
   "cell_type": "code",
   "execution_count": 1,
   "id": "4806a920-6ea0-4e28-91dc-5aaa7ba60600",
   "metadata": {},
   "outputs": [],
   "source": [
    "import glob\n",
    "import os.path as op\n",
    "import os\n",
    "import numpy as np\n",
    "import pandas as pd\n",
    "import re\n",
    "\n",
    "from datetime import datetime\n",
    "from uuid import uuid4\n",
    "from dateutil.tz import tzlocal\n",
    "\n",
    "from uuid import uuid4\n",
    "from hdmf.common.table import DynamicTable\n",
    "from hdmf.backends.hdf5.h5_utils import H5DataIO\n",
    "from pynwb import NWBHDF5IO, NWBFile, TimeSeries\n",
    "from pynwb.file import Subject, ElectrodeTable\n",
    "from pynwb.device import Device\n",
    "from pynwb.ecephys import ElectrodeGroup, ElectricalSeries\n",
    "import h5py"
   ]
  },
  {
   "cell_type": "code",
   "execution_count": 2,
   "id": "b1bfd9ee-bdf5-4086-ba33-1607f9a36225",
   "metadata": {},
   "outputs": [],
   "source": "from ieeg2nwb import IEEG2NWB, load_nwb_settings"
  },
  {
   "cell_type": "markdown",
   "id": "a6f82ffb-eed1-490f-ad38-bb524d980d76",
   "metadata": {},
   "source": [
    "# Setup\n",
    "\n",
    "Specify info on subject and study"
   ]
  },
  {
   "cell_type": "code",
   "execution_count": 3,
   "id": "9431b59e-eeb1-4c20-b39e-ff0532ff46db",
   "metadata": {},
   "outputs": [],
   "source": [
    "# Path to study directory\n",
    "# NOTE: You should not read in the original study saved on the server.\n",
    "#       In reading files there's a chance for corruption. Make a copy of it\n",
    "# Path to w drive is: /run/user/1000/gvfs/smb-share:server=sykisilon1,share=mehtalab/\n",
    "study_directory = \"/media/hbml/HDD2/natus_api/data/natus/amayareyes-jacinto_IC-Day-5A\"\n",
    "\n",
    "# Freesurfer info\n",
    "freesurfer_subject_directory = \"/home/hbml/freesurfer_7.1.1/subjects\"\n",
    "freesurfer_subject_id = \"NS144_02\"\n",
    "\n",
    "# NWB filename. Suggested to follow the BIDS template such as: sub-NS001_ses-implant01_desc-day1_ieeg.nwb\n",
    "nwb_filename = \"/media/hbml/HDD2/natus_api/data/nwb/sub-NS144_ses-implant02_desc-ImplantDay5_ieeg.nwb\"\n",
    "\n",
    "# Text fields for NWB file. Leave blank for default to be filled\n",
    "\n",
    "# Typically the freesurfer and subject ID are the same but not always such as if they had multiple implants\n",
    "\n",
    "subject_info = {\n",
    "    \"subject_id\": \"NS144\",\n",
    "    \"age\": 30, # An integer or ISO 8601 format (ex: 30 years old = \"P30Y\"). ISO may be good if children to also have months\n",
    "    \"sex\": \"U\", # Options: [M,F,U]\n",
    "    \"species\": \"Homo sapiens\",\n",
    "    \"description\": \"intracranial patient\" # can put another description if you'd like\n",
    "}\n",
    "\n",
    "notes = \"\"\"\n",
    "\n",
    "\"\"\"\n",
    "\n",
    "session_description = \"\"\"\n",
    "\n",
    "\"\"\"\n",
    "\n",
    "session_id = \"\"\n",
    "\n",
    "\n",
    "experiment_description = \"\"\"\n",
    "\n",
    "\"\"\"\n",
    "\n",
    "experimenter = \"\"\"\n",
    "\n",
    "\"\"\"\n",
    "\n",
    "institution = \"\"\"\n",
    "\n",
    "\"\"\"\n",
    "\n",
    "lab = \"\"\"\n",
    "\n",
    "\"\"\"\n",
    "\n",
    "data_collection = \"\"\"\n",
    "\n",
    "\"\"\"\n",
    "\n",
    "# Options: DC1-DC14, TRIG, OSAT, PR, PLETH\n",
    "other_chans = []\n",
    "\n",
    "# Channels that contain the primary eeg data\n",
    "# For TDT should be the stores such as: RawX, EEG1, EEG2\n",
    "eeg_data_stores = [\"EEG1\", \"EEG2\"]\n",
    "\n",
    "# Analog acquisitions containing data not necessarily eeg\n",
    "# For each analog store make a dictionary as below then \n",
    "# add each dictionary to the list `analog_acquisitions`\n",
    "analog_data_dict = {\n",
    "    \"name\": \"\",\n",
    "    \"description\": \"\",\n",
    "    \"store\": \"\",\n",
    "    \"comments\": \"\",\n",
    "    \"channels\": [0,1,2],\n",
    "    \"externalize\": False\n",
    "}\n",
    "\n",
    "analog_acquisitions = []\n",
    "\n",
    "# Digital acquisitions\n",
    "digital_data_dict = {\n",
    "    \"name\": \"\",\n",
    "    \"description\": \"\",\n",
    "    \"store\": \"\",\n",
    "    \"comments\": \"\",\n",
    "    \"channels\": [\"PtC2\",\"PtC4\"],\n",
    "    \"externalize\": False\n",
    "}\n",
    "digital_acquisitions = []"
   ]
  },
  {
   "cell_type": "markdown",
   "id": "5ae530c6-18b9-432f-8b58-5e509842b36f",
   "metadata": {},
   "source": [
    "# Read in settings"
   ]
  },
  {
   "cell_type": "code",
   "execution_count": 6,
   "id": "0550c399-5c58-42ab-adfb-73ddab8755b6",
   "metadata": {},
   "outputs": [],
   "source": [
    "settings = load_nwb_settings()"
   ]
  },
  {
   "metadata": {},
   "cell_type": "markdown",
   "source": "# Create IEEG2NWB instance",
   "id": "a20dc2258e50f845"
  },
  {
   "metadata": {},
   "cell_type": "code",
   "outputs": [],
   "execution_count": null,
   "source": "converter = IEEG2NWB()",
   "id": "61bd56e4878a857e"
  },
  {
   "cell_type": "markdown",
   "id": "a9cd05d5-6167-4a24-b30e-abb9695c4649",
   "metadata": {},
   "source": "# Meta-data, Subject"
  },
  {
   "cell_type": "markdown",
   "id": "349a2627-dea7-4e45-b87b-536209004f83",
   "metadata": {},
   "source": "Fill in meta-data if some are empty"
  },
  {
   "metadata": {},
   "cell_type": "code",
   "outputs": [],
   "execution_count": null,
   "source": [
    "# Fill this dictionary. It will be used for conversion\n",
    "nwb_info = {\n",
    "    \"notes\": notes,\n",
    "    \"session_description\": session_description,\n",
    "    \"experiment_description\": experiment_description,\n",
    "    \"institution\": institution,\n",
    "    \"lab\": lab,\n",
    "    \"data_collection\": data_collection,\n",
    "    \"session_id\": session_id,\n",
    "}"
   ],
   "id": "af160060e3d78eba"
  },
  {
   "cell_type": "code",
   "execution_count": 7,
   "id": "d0b91004-d622-49d0-a44f-94aec901130a",
   "metadata": {},
   "outputs": [],
   "source": [
    "meta_data_settings = settings[\"meta_data\"]\n",
    "for param, value in nwb_info.items():\n",
    "    if isinstance(value, datetime):\n",
    "        setattr(converter, param, value)\n",
    "    else:\n",
    "        setattr(\n",
    "            converter,\n",
    "            param,\n",
    "            value if len(value.strip())!=0 else meta_data_settings[param]\n",
    "        )"
   ]
  },
  {
   "cell_type": "markdown",
   "id": "6f9329db-77d1-47e9-a4ab-52cc85f48636",
   "metadata": {},
   "source": [
    "Create subject object"
   ]
  },
  {
   "cell_type": "code",
   "execution_count": 8,
   "id": "2fe975f5-159e-47b8-82d1-a9856d4cf8d9",
   "metadata": {},
   "outputs": [],
   "source": [
    "subject_settings = settings[\"subject\"]\n",
    "for param, value in subject_settings.items():\n",
    "    if isinstance(subject_info[param], int):\n",
    "        continue\n",
    "    if len(subject_info[param])==0:\n",
    "        subject_info[param] = subject_settings[param]\n",
    "\n",
    "subject = converter.create_subject(**subject_info)"
   ]
  },
  {
   "metadata": {},
   "cell_type": "markdown",
   "source": "# Read raw data",
   "id": "c3f7e395214d7cae"
  },
  {
   "metadata": {},
   "cell_type": "code",
   "outputs": [],
   "execution_count": null,
   "source": "converter.read_input(study_directory, eeg_chans=eeg_data_stores, make_device=True)",
   "id": "a4d03960307267bc"
  },
  {
   "cell_type": "markdown",
   "id": "a4735e50-7fa1-4aa4-9dde-31a51e5229fd",
   "metadata": {},
   "source": "# Read correspondence sheet, make table, create eeg acquisitions"
  },
  {
   "cell_type": "code",
   "execution_count": 10,
   "id": "4272fb90-748f-4a33-aa62-ec7b22f4954f",
   "metadata": {},
   "outputs": [],
   "source": [
    "# Import correspondence sheet\n",
    "corr_list = glob.glob(op.join(freesurfer_subject_directory, freesurfer_subject_id, \"elec_recon\", \"*correspondence*\"))\n",
    "corr_file = corr_list[0]\n",
    "\n",
    "# Read it\n",
    "converter.read_labelfile(corr_file)\n",
    "\n",
    "# Clean it\n",
    "converter.clean_labelfile()\n",
    "\n",
    "# Create electrode groups\n",
    "converter.create_electrodeGroups()\n",
    "\n",
    "# Convert correspondence sheet to table\n",
    "converter.labelfile2table()\n",
    "\n",
    "# Create table regions\n",
    "converter.create_table_regions()\n",
    "\n",
    "# Each region corresponds to a different ElectricalSeries. Create every ES\n",
    "converter.regions2es()"
   ]
  },
  {
   "cell_type": "markdown",
   "id": "52cd2c74-636e-4de7-b526-2467c7acd060",
   "metadata": {},
   "source": [
    "# Add other TimeSeries if specified"
   ]
  },
  {
   "metadata": {},
   "cell_type": "code",
   "outputs": [],
   "execution_count": null,
   "source": [
    "analog_data_dict = {\n",
    "    \"name\": \"\",\n",
    "    \"description\": \"\",\n",
    "    \"store\": \"\",\n",
    "    \"comments\": \"\",\n",
    "    \"channels\": [0,1,2],\n",
    "    \"externalize\": False\n",
    "}\n",
    "\n",
    "for a in analog_acquisitions:\n",
    "    pass"
   ],
   "id": "94685705603f3b9a"
  },
  {
   "metadata": {},
   "cell_type": "markdown",
   "source": [
    "# Parse events\n",
    "\n",
    "Must have the following:\n",
    "* An events table as a pandas DataFrame instance. Must contain\n",
    "    - start_time column\n",
    "    - end_time column\n",
    "* A `dynamic_columns` dictionary variable with name and description of all columns"
   ],
   "id": "660864abaffd7f2f"
  },
  {
   "metadata": {},
   "cell_type": "code",
   "outputs": [],
   "execution_count": null,
   "source": "",
   "id": "3ce703f6bfb7d416"
  },
  {
   "cell_type": "markdown",
   "id": "a754f1ec-f201-4ad2-a40f-0336362f52ef",
   "metadata": {},
   "source": [
    "# Create NwbFile object then write"
   ]
  },
  {
   "cell_type": "code",
   "execution_count": null,
   "id": "7b7a1978-b402-4e8d-83e2-012e7bc1a723",
   "metadata": {},
   "outputs": [],
   "source": "converter.write_nwb(nwb_filename)"
  }
 ],
 "metadata": {
  "kernelspec": {
   "display_name": "Python 3 (ipykernel)",
   "language": "python",
   "name": "python3"
  },
  "language_info": {
   "codemirror_mode": {
    "name": "ipython",
    "version": 3
   },
   "file_extension": ".py",
   "mimetype": "text/x-python",
   "name": "python",
   "nbconvert_exporter": "python",
   "pygments_lexer": "ipython3",
   "version": "3.12.4"
  }
 },
 "nbformat": 4,
 "nbformat_minor": 5
}
